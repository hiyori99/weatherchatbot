{
 "cells": [
  {
   "cell_type": "code",
   "execution_count": 174,
   "id": "korean-respondent",
   "metadata": {},
   "outputs": [],
   "source": [
    "# -*- coding: utf-8 -*-\n",
    "import telegram\n",
    "import json\n",
    "import requests\n",
    "from pykakasi import kakasi"
   ]
  },
  {
   "cell_type": "code",
   "execution_count": 175,
   "id": "exempt-elite",
   "metadata": {},
   "outputs": [],
   "source": [
    "kakasi = kakasi()\n",
    "\n",
    "kakasi.setMode('H','a')\n",
    "kakasi.setMode('K','a')\n",
    "kakasi.setMode('J','a')\n",
    "\n",
    "conv = kakasi.getConverter() "
   ]
  },
  {
   "cell_type": "code",
   "execution_count": 176,
   "id": "pressed-hundred",
   "metadata": {},
   "outputs": [],
   "source": [
    "token = '1608541752:AAHNsKyyLyi7F5ii_jvwJMlmmb805K8dLx4'"
   ]
  },
  {
   "cell_type": "code",
   "execution_count": 177,
   "id": "saving-attack",
   "metadata": {},
   "outputs": [],
   "source": [
    "newbot = telegram.Bot(token = token)"
   ]
  },
  {
   "cell_type": "code",
   "execution_count": 178,
   "id": "classical-bailey",
   "metadata": {},
   "outputs": [
    {
     "name": "stdout",
     "output_type": "stream",
     "text": [
      "Seoul\n"
     ]
    }
   ],
   "source": [
    "updates = newbot.getUpdates()\n",
    "said = updates[-1]['message']['text']\n",
    "print(said)"
   ]
  },
  {
   "cell_type": "code",
   "execution_count": 179,
   "id": "organic-understanding",
   "metadata": {},
   "outputs": [
    {
     "name": "stdout",
     "output_type": "stream",
     "text": [
      "<class 'str'>\n",
      "Seoul\n"
     ]
    }
   ],
   "source": [
    "print(type(said))\n",
    "print(conv.do(said))"
   ]
  },
  {
   "cell_type": "code",
   "execution_count": 180,
   "id": "instrumental-lightning",
   "metadata": {},
   "outputs": [
    {
     "name": "stdout",
     "output_type": "stream",
     "text": [
      "http://api.openweathermap.org/data/2.5/weather?units=metric&q=Seoul&APPID=090914e16d96b7117d869f74061abe62\n",
      "---\n",
      "{\n",
      "    \"coord\": {\n",
      "        \"lon\": 126.9778,\n",
      "        \"lat\": 37.5683\n",
      "    },\n",
      "    \"weather\": [\n",
      "        {\n",
      "            \"id\": 800,\n",
      "            \"main\": \"Clear\",\n",
      "            \"description\": \"clear sky\",\n",
      "            \"icon\": \"01n\"\n",
      "        }\n",
      "    ],\n",
      "    \"base\": \"stations\",\n",
      "    \"main\": {\n",
      "        \"temp\": 2.98,\n",
      "        \"feels_like\": -1.1,\n",
      "        \"temp_min\": 2,\n",
      "        \"temp_max\": 4,\n",
      "        \"pressure\": 1027,\n",
      "        \"humidity\": 69\n",
      "    },\n",
      "    \"visibility\": 10000,\n",
      "    \"wind\": {\n",
      "        \"speed\": 2.57,\n",
      "        \"deg\": 360\n",
      "    },\n",
      "    \"clouds\": {\n",
      "        \"all\": 0\n",
      "    },\n",
      "    \"dt\": 1614359793,\n",
      "    \"sys\": {\n",
      "        \"type\": 1,\n",
      "        \"id\": 8105,\n",
      "        \"country\": \"KR\",\n",
      "        \"sunrise\": 1614377211,\n",
      "        \"sunset\": 1614417793\n",
      "    },\n",
      "    \"timezone\": 32400,\n",
      "    \"id\": 1835848,\n",
      "    \"name\": \"Seoul\",\n",
      "    \"cod\": 200\n",
      "}\n",
      "---\n",
      "Seoul\n",
      "weather: Clear\n",
      "temp: 2.98\n",
      "puressure: 1027\n",
      "humudity: 69\n",
      "temp_min: 2\n",
      "temp_max: 4\n"
     ]
    }
   ],
   "source": [
    "city = conv.do(said)\n",
    "key = '090914e16d96b7117d869f74061abe62'\n",
    "api = \"http://api.openweathermap.org/data/2.5/weather?units=metric&q={city}&APPID={key}\"\n",
    "\n",
    "url = api.format(city = city, key = key)\n",
    "print(url)\n",
    "response = requests.get(url)\n",
    "\n",
    "print(\"---\")\n",
    "data = response.json()\n",
    "jsonText = json.dumps(data,indent = 4)\n",
    "print(jsonText)\n",
    "print(\"---\")\n",
    "data = json.loads(response.text)\n",
    "print(city)\n",
    "print(\"weather:\",data[\"weather\"][0][\"main\"])\n",
    "print(\"temp:\",data[\"main\"][\"temp\"])\n",
    "print(\"puressure:\",data[\"main\"][\"pressure\"])\n",
    "print(\"humudity:\",data[\"main\"][\"humidity\"])\n",
    "print(\"temp_min:\",data[\"main\"][\"temp_min\"])\n",
    "print(\"temp_max:\",data[\"main\"][\"temp_max\"])"
   ]
  },
  {
   "cell_type": "code",
   "execution_count": 181,
   "id": "charitable-electron",
   "metadata": {},
   "outputs": [],
   "source": [
    "weather = data[\"weather\"][0][\"main\"]\n",
    "temp = data[\"main\"][\"temp\"]\n",
    "pressure = data[\"main\"][\"pressure\"]"
   ]
  },
  {
   "cell_type": "code",
   "execution_count": 182,
   "id": "proof-phoenix",
   "metadata": {},
   "outputs": [],
   "source": [
    "import re\n",
    "\n",
    "p = re.compile('[a-zA-Z]+')\n",
    "if p.fullmatch(said):\n",
    "    message = said + \"\\nweather: \" + weather + \"\\ntemp: \" + str(temp) + \"℃\" + \"\\npressrue: \" + str(pressure) + \"hPa\"\n",
    "    newbot.sendMessage(chat_id = updates[-1].message.chat.id,text = message)\n",
    "else:\n",
    "    message1 = said + \"\\n天気: \" + weather + \"\\n温度: \" + str(temp) + \"℃\" + \"\\n気圧: \" + str(pressure) +\"hPa\"\n",
    "    newbot.sendMessage(chat_id = updates[-1].message.chat.id,text = message1)"
   ]
  },
  {
   "cell_type": "code",
   "execution_count": null,
   "id": "republican-workplace",
   "metadata": {},
   "outputs": [],
   "source": []
  },
  {
   "cell_type": "code",
   "execution_count": null,
   "id": "revised-colony",
   "metadata": {},
   "outputs": [],
   "source": []
  }
 ],
 "metadata": {
  "kernelspec": {
   "display_name": "Python 3",
   "language": "python",
   "name": "python3"
  },
  "language_info": {
   "codemirror_mode": {
    "name": "ipython",
    "version": 3
   },
   "file_extension": ".py",
   "mimetype": "text/x-python",
   "name": "python",
   "nbconvert_exporter": "python",
   "pygments_lexer": "ipython3",
   "version": "3.9.1"
  }
 },
 "nbformat": 4,
 "nbformat_minor": 5
}
